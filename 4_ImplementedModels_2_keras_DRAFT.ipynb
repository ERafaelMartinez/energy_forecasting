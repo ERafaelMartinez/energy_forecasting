{
 "cells": [
  {
   "cell_type": "code",
   "execution_count": 2,
   "metadata": {},
   "outputs": [
    {
     "data": {
      "text/html": [
       "        <script type=\"text/javascript\">\n",
       "        window.PlotlyConfig = {MathJaxConfig: 'local'};\n",
       "        if (window.MathJax) {MathJax.Hub.Config({SVG: {font: \"STIX-Web\"}});}\n",
       "        if (typeof require !== 'undefined') {\n",
       "        require.undef(\"plotly\");\n",
       "        requirejs.config({\n",
       "            paths: {\n",
       "                'plotly': ['https://cdn.plot.ly/plotly-latest.min']\n",
       "            }\n",
       "        });\n",
       "        require(['plotly'], function(Plotly) {\n",
       "            window._Plotly = Plotly;\n",
       "        });\n",
       "        }\n",
       "        </script>\n",
       "        "
      ]
     },
     "metadata": {},
     "output_type": "display_data"
    }
   ],
   "source": [
    "import pandasql as ps\n",
    "import pandas as pd\n",
    "import chart_studio.plotly as py\n",
    "import plotly.graph_objs as go\n",
    "# Offline mode\n",
    "from plotly.offline import init_notebook_mode, iplot, plot\n",
    "init_notebook_mode(connected='true')\n",
    "from numpy import array\n",
    "from keras.models import Sequential\n",
    "from keras.layers import LSTM\n",
    "from keras.layers import Dense\n",
    "from keras.layers import Bidirectional\n",
    "from matplotlib import pyplot\n",
    "import numpy as np\n",
    "from sklearn.preprocessing import MinMaxScaler\n",
    "from sklearn.metrics import mean_squared_error"
   ]
  },
  {
   "cell_type": "code",
   "execution_count": 3,
   "metadata": {},
   "outputs": [],
   "source": [
    "full = pd.read_csv('./data/clean/full_data.csv', parse_dates = True, index_col = 0)"
   ]
  },
  {
   "cell_type": "code",
   "execution_count": 4,
   "metadata": {},
   "outputs": [],
   "source": [
    " # convert series to supervised learning\n",
    "def series_to_supervised(data, n_in=1, n_out=1, dropnan=True):\n",
    "    n_vars = 1 if type(data) is list else data.shape[1]\n",
    "    #df = pd.DataFrame(data)\n",
    "    df = data\n",
    "    cols, names = list(), list()\n",
    "    # input sequence (t-n, ... t-1)\n",
    "    for i in range(n_in, 0, -1):\n",
    "        cols.append(data.shift(i))\n",
    "        names += [('{}(t-{})'.format(j, i)) for j in data.columns]\n",
    "    # forecast sequence (t, t+1, ... t+n)\n",
    "    for i in range(0, n_out):\n",
    "        cols.append(df.shift(-i))\n",
    "        if i == 0:\n",
    "            names += [('{}(t)'.format(j)) for j in data.columns]\n",
    "        else:\n",
    "            names += [('{}(t+{})'.format(j, i)) for j in data.columns]\n",
    "    # put it all together\n",
    "    agg = pd.concat(cols, axis=1)\n",
    "    agg.columns = names\n",
    "    # drop rows with NaN values\n",
    "    if dropnan:\n",
    "        agg.dropna(inplace=True)\n",
    "    return agg"
   ]
  },
  {
   "cell_type": "code",
   "execution_count": 5,
   "metadata": {},
   "outputs": [
    {
     "name": "stdout",
     "output_type": "stream",
     "text": [
      "(26257, 480)\n"
     ]
    }
   ],
   "source": [
    "# frame as supervised learning\n",
    "n_hours = 24\n",
    "n_features = 10\n",
    "full = series_to_supervised(full, n_hours, 24)\n",
    "print(full.shape)\n",
    "# load data\n",
    "values = full.values\n",
    "# check data is float\n",
    "values = values.astype('float32')\n",
    "# normalizing\n",
    "scaler = MinMaxScaler(feature_range=(0,1))\n",
    "scaled = scaler.fit_transform(values)\n",
    "full = pd.DataFrame(scaled, columns=full.columns)\n"
   ]
  },
  {
   "cell_type": "code",
   "execution_count": 6,
   "metadata": {
    "scrolled": false
   },
   "outputs": [
    {
     "data": {
      "text/html": [
       "<div>\n",
       "<style scoped>\n",
       "    .dataframe tbody tr th:only-of-type {\n",
       "        vertical-align: middle;\n",
       "    }\n",
       "\n",
       "    .dataframe tbody tr th {\n",
       "        vertical-align: top;\n",
       "    }\n",
       "\n",
       "    .dataframe thead th {\n",
       "        text-align: right;\n",
       "    }\n",
       "</style>\n",
       "<table border=\"1\" class=\"dataframe\">\n",
       "  <thead>\n",
       "    <tr style=\"text-align: right;\">\n",
       "      <th></th>\n",
       "      <th>electricity(t-24)</th>\n",
       "      <th>air_temperature(t-24)</th>\n",
       "      <th>dew_temperature(t-24)</th>\n",
       "      <th>sea_level_pressure(t-24)</th>\n",
       "      <th>wind_direction(t-24)</th>\n",
       "      <th>wind_speed(t-24)</th>\n",
       "      <th>month(t-24)</th>\n",
       "      <th>day(t-24)</th>\n",
       "      <th>weekday(t-24)</th>\n",
       "      <th>hour(t-24)</th>\n",
       "      <th>...</th>\n",
       "      <th>electricity(t+23)</th>\n",
       "      <th>air_temperature(t+23)</th>\n",
       "      <th>dew_temperature(t+23)</th>\n",
       "      <th>sea_level_pressure(t+23)</th>\n",
       "      <th>wind_direction(t+23)</th>\n",
       "      <th>wind_speed(t+23)</th>\n",
       "      <th>month(t+23)</th>\n",
       "      <th>day(t+23)</th>\n",
       "      <th>weekday(t+23)</th>\n",
       "      <th>hour(t+23)</th>\n",
       "    </tr>\n",
       "  </thead>\n",
       "  <tbody>\n",
       "    <tr>\n",
       "      <th>0</th>\n",
       "      <td>0.117219</td>\n",
       "      <td>0.223350</td>\n",
       "      <td>0.396040</td>\n",
       "      <td>0.665307</td>\n",
       "      <td>0.714286</td>\n",
       "      <td>0.512683</td>\n",
       "      <td>0.0</td>\n",
       "      <td>0.0</td>\n",
       "      <td>0.666667</td>\n",
       "      <td>0.000000</td>\n",
       "      <td>...</td>\n",
       "      <td>0.248344</td>\n",
       "      <td>0.380711</td>\n",
       "      <td>0.620462</td>\n",
       "      <td>0.385035</td>\n",
       "      <td>0.857143</td>\n",
       "      <td>0.601177</td>\n",
       "      <td>0.0</td>\n",
       "      <td>0.033333</td>\n",
       "      <td>0.333333</td>\n",
       "      <td>1.000000</td>\n",
       "    </tr>\n",
       "    <tr>\n",
       "      <th>1</th>\n",
       "      <td>0.245695</td>\n",
       "      <td>0.220812</td>\n",
       "      <td>0.396040</td>\n",
       "      <td>0.674829</td>\n",
       "      <td>0.714286</td>\n",
       "      <td>0.498410</td>\n",
       "      <td>0.0</td>\n",
       "      <td>0.0</td>\n",
       "      <td>0.833333</td>\n",
       "      <td>0.043478</td>\n",
       "      <td>...</td>\n",
       "      <td>0.242384</td>\n",
       "      <td>0.373096</td>\n",
       "      <td>0.620462</td>\n",
       "      <td>0.395918</td>\n",
       "      <td>0.714286</td>\n",
       "      <td>0.615450</td>\n",
       "      <td>0.0</td>\n",
       "      <td>0.066667</td>\n",
       "      <td>0.500000</td>\n",
       "      <td>0.000000</td>\n",
       "    </tr>\n",
       "    <tr>\n",
       "      <th>2</th>\n",
       "      <td>0.250331</td>\n",
       "      <td>0.192893</td>\n",
       "      <td>0.379538</td>\n",
       "      <td>0.678912</td>\n",
       "      <td>0.000000</td>\n",
       "      <td>0.424189</td>\n",
       "      <td>0.0</td>\n",
       "      <td>0.0</td>\n",
       "      <td>1.000000</td>\n",
       "      <td>0.086957</td>\n",
       "      <td>...</td>\n",
       "      <td>0.228477</td>\n",
       "      <td>0.362944</td>\n",
       "      <td>0.597360</td>\n",
       "      <td>0.400001</td>\n",
       "      <td>0.857143</td>\n",
       "      <td>0.689671</td>\n",
       "      <td>0.0</td>\n",
       "      <td>0.066667</td>\n",
       "      <td>0.666667</td>\n",
       "      <td>0.043478</td>\n",
       "    </tr>\n",
       "    <tr>\n",
       "      <th>3</th>\n",
       "      <td>0.232450</td>\n",
       "      <td>0.177665</td>\n",
       "      <td>0.356436</td>\n",
       "      <td>0.684354</td>\n",
       "      <td>0.571429</td>\n",
       "      <td>0.467009</td>\n",
       "      <td>0.0</td>\n",
       "      <td>0.0</td>\n",
       "      <td>0.000000</td>\n",
       "      <td>0.130435</td>\n",
       "      <td>...</td>\n",
       "      <td>0.217881</td>\n",
       "      <td>0.342640</td>\n",
       "      <td>0.554455</td>\n",
       "      <td>0.408164</td>\n",
       "      <td>0.857143</td>\n",
       "      <td>0.643997</td>\n",
       "      <td>0.0</td>\n",
       "      <td>0.066667</td>\n",
       "      <td>0.833333</td>\n",
       "      <td>0.086957</td>\n",
       "    </tr>\n",
       "    <tr>\n",
       "      <th>4</th>\n",
       "      <td>0.182119</td>\n",
       "      <td>0.185279</td>\n",
       "      <td>0.376238</td>\n",
       "      <td>0.689796</td>\n",
       "      <td>0.285714</td>\n",
       "      <td>0.467009</td>\n",
       "      <td>0.0</td>\n",
       "      <td>0.0</td>\n",
       "      <td>0.166667</td>\n",
       "      <td>0.173913</td>\n",
       "      <td>...</td>\n",
       "      <td>0.193377</td>\n",
       "      <td>0.322335</td>\n",
       "      <td>0.504951</td>\n",
       "      <td>0.414967</td>\n",
       "      <td>0.714286</td>\n",
       "      <td>0.658270</td>\n",
       "      <td>0.0</td>\n",
       "      <td>0.066667</td>\n",
       "      <td>1.000000</td>\n",
       "      <td>0.130435</td>\n",
       "    </tr>\n",
       "  </tbody>\n",
       "</table>\n",
       "<p>5 rows × 480 columns</p>\n",
       "</div>"
      ],
      "text/plain": [
       "   electricity(t-24)  air_temperature(t-24)  dew_temperature(t-24)  \\\n",
       "0           0.117219               0.223350               0.396040   \n",
       "1           0.245695               0.220812               0.396040   \n",
       "2           0.250331               0.192893               0.379538   \n",
       "3           0.232450               0.177665               0.356436   \n",
       "4           0.182119               0.185279               0.376238   \n",
       "\n",
       "   sea_level_pressure(t-24)  wind_direction(t-24)  wind_speed(t-24)  \\\n",
       "0                  0.665307              0.714286          0.512683   \n",
       "1                  0.674829              0.714286          0.498410   \n",
       "2                  0.678912              0.000000          0.424189   \n",
       "3                  0.684354              0.571429          0.467009   \n",
       "4                  0.689796              0.285714          0.467009   \n",
       "\n",
       "   month(t-24)  day(t-24)  weekday(t-24)  hour(t-24)  ...  electricity(t+23)  \\\n",
       "0          0.0        0.0       0.666667    0.000000  ...           0.248344   \n",
       "1          0.0        0.0       0.833333    0.043478  ...           0.242384   \n",
       "2          0.0        0.0       1.000000    0.086957  ...           0.228477   \n",
       "3          0.0        0.0       0.000000    0.130435  ...           0.217881   \n",
       "4          0.0        0.0       0.166667    0.173913  ...           0.193377   \n",
       "\n",
       "   air_temperature(t+23)  dew_temperature(t+23)  sea_level_pressure(t+23)  \\\n",
       "0               0.380711               0.620462                  0.385035   \n",
       "1               0.373096               0.620462                  0.395918   \n",
       "2               0.362944               0.597360                  0.400001   \n",
       "3               0.342640               0.554455                  0.408164   \n",
       "4               0.322335               0.504951                  0.414967   \n",
       "\n",
       "   wind_direction(t+23)  wind_speed(t+23)  month(t+23)  day(t+23)  \\\n",
       "0              0.857143          0.601177          0.0   0.033333   \n",
       "1              0.714286          0.615450          0.0   0.066667   \n",
       "2              0.857143          0.689671          0.0   0.066667   \n",
       "3              0.857143          0.643997          0.0   0.066667   \n",
       "4              0.714286          0.658270          0.0   0.066667   \n",
       "\n",
       "   weekday(t+23)  hour(t+23)  \n",
       "0       0.333333    1.000000  \n",
       "1       0.500000    0.000000  \n",
       "2       0.666667    0.043478  \n",
       "3       0.833333    0.086957  \n",
       "4       1.000000    0.130435  \n",
       "\n",
       "[5 rows x 480 columns]"
      ]
     },
     "execution_count": 6,
     "metadata": {},
     "output_type": "execute_result"
    }
   ],
   "source": [
    "full.head()"
   ]
  },
  {
   "cell_type": "code",
   "execution_count": 7,
   "metadata": {
    "scrolled": true
   },
   "outputs": [],
   "source": [
    "#elec_v = electricity.values\n",
    "#elec_v = elec_v.astype('float32')\n",
    "#scaled = scaler.fit_transform(elec_v)\n",
    "#elec_scaled = pd.DataFrame(scaled, columns=electricity.columns)\n",
    "#n_hours = 3\n",
    "#elec_full = series_to_supervised(elec_scaled, n_hours, 1)\n",
    "#elec_full.head()"
   ]
  },
  {
   "cell_type": "code",
   "execution_count": 8,
   "metadata": {},
   "outputs": [],
   "source": [
    "#full['electricity(t)'] = elec_full['electricity(t)']\n",
    "#full.head()"
   ]
  },
  {
   "cell_type": "markdown",
   "metadata": {},
   "source": [
    "# 4. Definition and Fitting of the Model\n",
    "Time Series Forecasting (LSTM)"
   ]
  },
  {
   "cell_type": "markdown",
   "metadata": {},
   "source": [
    "We divide the data between train and test data. In total we have 3 years. We'll take for the training the first two years and the thir one leave it to the testing of the training. Thet is the same as taking the first 2/3 of the data to train and the remaining 1/3 to test."
   ]
  },
  {
   "cell_type": "markdown",
   "metadata": {},
   "source": [
    "### 4.1 Test and Training Sets"
   ]
  },
  {
   "cell_type": "code",
   "execution_count": 9,
   "metadata": {},
   "outputs": [
    {
     "name": "stdout",
     "output_type": "stream",
     "text": [
      "(17504, 24, 10) (17504, 240) (8753, 24, 10) (8753, 240)\n"
     ]
    }
   ],
   "source": [
    "values = full.values\n",
    "train_hours = int(2*full.shape[0]/3)\n",
    "train = values[:train_hours, :]\n",
    "test = values[train_hours:, :]\n",
    "\n",
    "#Separate them into Variables and Targets\n",
    "n_obs = (n_hours) * n_features\n",
    "train_X, train_y = train[:, :n_obs], train[:, -24*n_features:]\n",
    "test_X, test_y = test[:, :n_obs], test[:, -24*n_features:]\n",
    "\n",
    "# reshape input to be 3D [samples, timesteps, features]\n",
    "train_X = train_X.reshape((train_X.shape[0], (n_hours), n_features))\n",
    "test_X = test_X.reshape((test_X.shape[0], (n_hours), n_features))\n",
    "print(train_X.shape, train_y.shape, test_X.shape, test_y.shape)"
   ]
  },
  {
   "cell_type": "markdown",
   "metadata": {},
   "source": [
    "### 4.2 Defining the Models"
   ]
  },
  {
   "cell_type": "markdown",
   "metadata": {},
   "source": [
    "#### 4.2.1 Model 1"
   ]
  },
  {
   "cell_type": "code",
   "execution_count": 10,
   "metadata": {},
   "outputs": [],
   "source": [
    "# define model\n",
    "model_1 = Sequential()\n",
    "model_1.add(Bidirectional(LSTM(200, activation='relu', return_sequences = True), input_shape=(train_X.shape[1], train_X.shape[2])))\n",
    "model_1.add(LSTM(200, activation='relu', input_shape=(train_X.shape[1], train_X.shape[2])))\n",
    "model_1.add(Dense(120))\n",
    "model_1.add(Dense(240))\n",
    "model_1.compile(optimizer='adam', loss='mse')"
   ]
  },
  {
   "cell_type": "code",
   "execution_count": 11,
   "metadata": {
    "scrolled": true
   },
   "outputs": [
    {
     "name": "stdout",
     "output_type": "stream",
     "text": [
      "Epoch 1/100\n",
      "730/730 [==============================] - 51s 68ms/step - loss: 0.0595 - val_loss: 0.0992\n",
      "Epoch 2/100\n",
      "730/730 [==============================] - 49s 67ms/step - loss: 0.1049 - val_loss: 0.0631\n",
      "Epoch 3/100\n",
      "730/730 [==============================] - 49s 67ms/step - loss: 0.0392 - val_loss: 0.0643\n",
      "Epoch 4/100\n",
      "730/730 [==============================] - 49s 67ms/step - loss: 0.0388 - val_loss: 0.0666\n",
      "Epoch 5/100\n",
      "730/730 [==============================] - 49s 67ms/step - loss: 0.0359 - val_loss: 0.0584\n",
      "Epoch 6/100\n",
      "730/730 [==============================] - 49s 67ms/step - loss: 0.0309 - val_loss: 0.0540\n",
      "Epoch 7/100\n",
      "730/730 [==============================] - 49s 67ms/step - loss: 0.0291 - val_loss: 0.0571\n",
      "Epoch 8/100\n",
      "730/730 [==============================] - 49s 67ms/step - loss: 0.0284 - val_loss: 0.0592\n",
      "Epoch 9/100\n",
      "730/730 [==============================] - 49s 67ms/step - loss: 0.0281 - val_loss: 0.0602\n",
      "Epoch 10/100\n",
      "730/730 [==============================] - 49s 67ms/step - loss: 0.0276 - val_loss: 0.0585\n",
      "Epoch 11/100\n",
      "730/730 [==============================] - 49s 67ms/step - loss: 0.0266 - val_loss: 0.0565\n",
      "Epoch 12/100\n",
      "730/730 [==============================] - 49s 67ms/step - loss: 0.0255 - val_loss: 0.0520\n",
      "Epoch 13/100\n",
      "730/730 [==============================] - 49s 67ms/step - loss: 0.0237 - val_loss: 0.0508\n",
      "Epoch 14/100\n",
      "730/730 [==============================] - 49s 67ms/step - loss: 0.0228 - val_loss: 0.0523\n",
      "Epoch 15/100\n",
      "730/730 [==============================] - 49s 67ms/step - loss: 0.0217 - val_loss: 0.0486\n",
      "Epoch 16/100\n",
      "730/730 [==============================] - 49s 67ms/step - loss: 0.0205 - val_loss: 0.0497\n",
      "Epoch 18/100\n",
      "730/730 [==============================] - 49s 67ms/step - loss: 0.0201 - val_loss: 0.0468\n",
      "Epoch 19/100\n",
      "730/730 [==============================] - 49s 67ms/step - loss: 0.0187 - val_loss: 0.0401\n",
      "Epoch 20/100\n",
      "730/730 [==============================] - 49s 67ms/step - loss: 0.0164 - val_loss: 0.0331\n",
      "Epoch 21/100\n",
      "730/730 [==============================] - 49s 67ms/step - loss: 0.0150 - val_loss: 0.0301\n",
      "Epoch 22/100\n",
      "  9/730 [..............................] - ETA: 40s - loss: 0.0234"
     ]
    },
    {
     "name": "stderr",
     "output_type": "stream",
     "text": [
      "IOPub message rate exceeded.\n",
      "The notebook server will temporarily stop sending output\n",
      "to the client in order to avoid crashing it.\n",
      "To change this limit, set the config variable\n",
      "`--NotebookApp.iopub_msg_rate_limit`.\n",
      "\n",
      "Current values:\n",
      "NotebookApp.iopub_msg_rate_limit=1000.0 (msgs/sec)\n",
      "NotebookApp.rate_limit_window=3.0 (secs)\n",
      "\n"
     ]
    },
    {
     "name": "stdout",
     "output_type": "stream",
     "text": [
      "730/730 [==============================] - 49s 67ms/step - loss: 0.0114 - val_loss: 0.0205\n",
      "Epoch 34/100\n",
      "730/730 [==============================] - 49s 67ms/step - loss: 0.0113 - val_loss: 0.0203\n",
      "Epoch 35/100\n",
      "730/730 [==============================] - 49s 67ms/step - loss: 0.0119 - val_loss: 0.0199\n",
      "Epoch 36/100\n",
      "730/730 [==============================] - 49s 67ms/step - loss: 0.0111 - val_loss: 0.0182\n",
      "Epoch 37/100\n",
      "244/730 [=========>....................] - ETA: 27s - loss: 0.0107"
     ]
    },
    {
     "name": "stderr",
     "output_type": "stream",
     "text": [
      "IOPub message rate exceeded.\n",
      "The notebook server will temporarily stop sending output\n",
      "to the client in order to avoid crashing it.\n",
      "To change this limit, set the config variable\n",
      "`--NotebookApp.iopub_msg_rate_limit`.\n",
      "\n",
      "Current values:\n",
      "NotebookApp.iopub_msg_rate_limit=1000.0 (msgs/sec)\n",
      "NotebookApp.rate_limit_window=3.0 (secs)\n",
      "\n"
     ]
    },
    {
     "name": "stdout",
     "output_type": "stream",
     "text": [
      "730/730 [==============================] - 49s 67ms/step - loss: 0.0104 - val_loss: 0.0174\n",
      "Epoch 49/100\n",
      "730/730 [==============================] - 49s 67ms/step - loss: 0.0105 - val_loss: 0.0162\n",
      "Epoch 50/100\n",
      "730/730 [==============================] - 49s 67ms/step - loss: 0.0104 - val_loss: 0.0166\n",
      "Epoch 51/100\n",
      "730/730 [==============================] - 49s 67ms/step - loss: 0.0102 - val_loss: 0.0168\n",
      "Epoch 52/100\n",
      "344/730 [=============>................] - ETA: 22s - loss: 0.0100"
     ]
    },
    {
     "name": "stderr",
     "output_type": "stream",
     "text": [
      "IOPub message rate exceeded.\n",
      "The notebook server will temporarily stop sending output\n",
      "to the client in order to avoid crashing it.\n",
      "To change this limit, set the config variable\n",
      "`--NotebookApp.iopub_msg_rate_limit`.\n",
      "\n",
      "Current values:\n",
      "NotebookApp.iopub_msg_rate_limit=1000.0 (msgs/sec)\n",
      "NotebookApp.rate_limit_window=3.0 (secs)\n",
      "\n"
     ]
    },
    {
     "name": "stdout",
     "output_type": "stream",
     "text": [
      "730/730 [==============================] - 49s 67ms/step - loss: 0.0099 - val_loss: 0.0147\n",
      "Epoch 65/100\n",
      "730/730 [==============================] - 49s 67ms/step - loss: 0.0097 - val_loss: 0.0168\n",
      "Epoch 66/100\n",
      "730/730 [==============================] - 49s 67ms/step - loss: 0.0098 - val_loss: 0.0146\n",
      "Epoch 67/100\n",
      "730/730 [==============================] - 49s 67ms/step - loss: 0.0098 - val_loss: 0.0146\n",
      "Epoch 68/100\n",
      "631/730 [========================>.....] - ETA: 5s - loss: 0.0096"
     ]
    },
    {
     "name": "stderr",
     "output_type": "stream",
     "text": [
      "IOPub message rate exceeded.\n",
      "The notebook server will temporarily stop sending output\n",
      "to the client in order to avoid crashing it.\n",
      "To change this limit, set the config variable\n",
      "`--NotebookApp.iopub_msg_rate_limit`.\n",
      "\n",
      "Current values:\n",
      "NotebookApp.iopub_msg_rate_limit=1000.0 (msgs/sec)\n",
      "NotebookApp.rate_limit_window=3.0 (secs)\n",
      "\n"
     ]
    },
    {
     "name": "stdout",
     "output_type": "stream",
     "text": [
      "730/730 [==============================] - 49s 67ms/step - loss: 0.0095 - val_loss: 0.0162\n",
      "Epoch 70/100\n",
      "730/730 [==============================] - 49s 67ms/step - loss: 0.0093 - val_loss: 0.0155\n",
      "Epoch 71/100\n",
      "730/730 [==============================] - 49s 67ms/step - loss: 0.0095 - val_loss: 0.0149\n",
      "Epoch 72/100\n",
      "730/730 [==============================] - 49s 67ms/step - loss: 0.0103 - val_loss: 0.0165\n",
      "Epoch 73/100\n",
      "730/730 [==============================] - 49s 67ms/step - loss: 0.0097 - val_loss: 0.0147\n",
      "Epoch 74/100\n",
      "730/730 [==============================] - 49s 67ms/step - loss: 0.0098 - val_loss: 0.0152\n",
      "Epoch 75/100\n",
      "730/730 [==============================] - 49s 67ms/step - loss: 0.0095 - val_loss: 0.0152\n",
      "Epoch 76/100\n",
      "730/730 [==============================] - 49s 67ms/step - loss: 0.0093 - val_loss: 0.0143\n",
      "Epoch 77/100\n",
      "730/730 [==============================] - 49s 67ms/step - loss: 0.0092 - val_loss: 0.0151\n",
      "Epoch 78/100\n",
      "730/730 [==============================] - 49s 67ms/step - loss: 0.0095 - val_loss: 0.0156\n",
      "Epoch 79/100\n",
      "730/730 [==============================] - 49s 67ms/step - loss: 0.0092 - val_loss: 0.0147\n",
      "Epoch 80/100\n",
      "730/730 [==============================] - 49s 67ms/step - loss: 0.0092 - val_loss: 0.0148\n",
      "Epoch 81/100\n",
      "730/730 [==============================] - 49s 67ms/step - loss: 0.0091 - val_loss: 0.0142\n",
      "Epoch 82/100\n",
      "730/730 [==============================] - 49s 67ms/step - loss: 0.0093 - val_loss: 0.0141\n",
      "Epoch 83/100\n",
      "730/730 [==============================] - 49s 67ms/step - loss: 0.0093 - val_loss: 0.0138\n",
      "Epoch 84/100\n",
      "730/730 [==============================] - 49s 67ms/step - loss: 0.0088 - val_loss: 0.0172\n",
      "Epoch 85/100\n",
      "730/730 [==============================] - 49s 67ms/step - loss: 0.0098 - val_loss: 0.0160\n",
      "Epoch 86/100\n",
      "730/730 [==============================] - 49s 67ms/step - loss: 0.0094 - val_loss: 0.0142\n",
      "Epoch 87/100\n",
      "730/730 [==============================] - 49s 67ms/step - loss: 0.0091 - val_loss: 0.0147\n",
      "Epoch 88/100\n",
      "730/730 [==============================] - 49s 67ms/step - loss: 0.0091 - val_loss: 0.0146\n",
      "Epoch 89/100\n",
      "730/730 [==============================] - 49s 67ms/step - loss: 0.0090 - val_loss: 0.0135\n",
      "Epoch 90/100\n",
      "730/730 [==============================] - 49s 67ms/step - loss: 0.0089 - val_loss: 0.0159\n",
      "Epoch 91/100\n",
      "730/730 [==============================] - 49s 67ms/step - loss: 0.0092 - val_loss: 0.0138\n",
      "Epoch 92/100\n",
      "730/730 [==============================] - 49s 67ms/step - loss: 0.0090 - val_loss: 0.0151\n",
      "Epoch 93/100\n",
      "730/730 [==============================] - 49s 67ms/step - loss: 0.0091 - val_loss: 0.0178\n",
      "Epoch 94/100\n",
      "730/730 [==============================] - 49s 67ms/step - loss: 0.0095 - val_loss: 0.0157\n",
      "Epoch 95/100\n",
      "730/730 [==============================] - 49s 67ms/step - loss: 0.0095 - val_loss: 0.0141\n",
      "Epoch 96/100\n",
      "730/730 [==============================] - 49s 67ms/step - loss: 0.0088 - val_loss: 0.0137\n",
      "Epoch 97/100\n",
      "730/730 [==============================] - 49s 67ms/step - loss: 0.0086 - val_loss: 0.0146\n",
      "Epoch 98/100\n",
      "730/730 [==============================] - 49s 67ms/step - loss: 0.0086 - val_loss: 0.0141\n",
      "Epoch 99/100\n",
      "730/730 [==============================] - 49s 67ms/step - loss: 0.0086 - val_loss: 0.0150\n",
      "Epoch 100/100\n",
      "730/730 [==============================] - 49s 67ms/step - loss: 0.0092 - val_loss: 0.0147\n"
     ]
    }
   ],
   "source": [
    "# fit model\n",
    "history = model_1.fit(train_X, train_y, epochs=100, batch_size=24, validation_data=(test_X, test_y), verbose=1, shuffle=False)"
   ]
  },
  {
   "cell_type": "code",
   "execution_count": 12,
   "metadata": {},
   "outputs": [
    {
     "data": {
      "image/png": "[encoded data removed]",
      "text/plain": [
       "<Figure size 432x288 with 1 Axes>"
      ]
     },
     "metadata": {
      "needs_background": "light"
     },
     "output_type": "display_data"
    }
   ],
   "source": [
    "# plot history\n",
    "pyplot.plot(history.history['loss'], label='train')\n",
    "pyplot.plot(history.history['val_loss'], label='test')\n",
    "pyplot.legend()\n",
    "pyplot.show()"
   ]
  },
  {
   "cell_type": "markdown",
   "metadata": {},
   "source": [
    "We create the test_input tensor to see how the network does when predicting."
   ]
  },
  {
   "cell_type": "code",
   "execution_count": null,
   "metadata": {},
   "outputs": [],
   "source": []
  },
  {
   "cell_type": "code",
   "execution_count": 13,
   "metadata": {},
   "outputs": [
    {
     "name": "stdout",
     "output_type": "stream",
     "text": [
      "Test RMSE: 4.715\n"
     ]
    }
   ],
   "source": [
    "# make a prediction\n",
    "ypred = model_1.predict(test_X)\n",
    "#print('ypred.shape=',ypred.shape)\n",
    "test_X = test_X.reshape((test_X.shape[0], (n_hours)*n_features))\n",
    "#print('test_X.shape=',test_X.shape)\n",
    "\n",
    "# invert scaling for forecast\n",
    "inv_ypred  = np.concatenate((test_X[:, :n_hours*n_features], ypred), axis=1)\n",
    "full_predicted  = scaler.inverse_transform(inv_ypred )\n",
    "y_predicted  = full_predicted[:,-n_hours*n_features:]\n",
    "#print('inv_ypred.shape=',inv_ypred.shape)\n",
    "\n",
    "# invert scaling for actual\n",
    "test_y = test_y.reshape((len(test_y), n_hours*n_features))\n",
    "inv_y = np.concatenate((test_X[:, -n_hours*n_features:], test_y), axis=1)\n",
    "full_actual = scaler.inverse_transform(inv_y)\n",
    "y_actual = full_actual[:,-n_hours*n_features:]\n",
    "#print('inv_y.shape=',inv_y.shape)\n",
    "\n",
    "# calculate RMSE\n",
    "rmse = np.sqrt(mean_squared_error(y_predicted, y_actual))\n",
    "print('Test RMSE: %.3f' % rmse)"
   ]
  },
  {
   "cell_type": "code",
   "execution_count": 14,
   "metadata": {},
   "outputs": [],
   "source": [
    "predicted = pd.DataFrame(data=full_predicted, columns=full.columns)\n",
    "actual = pd.DataFrame(data=full_actual, columns=full.columns)"
   ]
  },
  {
   "cell_type": "code",
   "execution_count": 15,
   "metadata": {},
   "outputs": [],
   "source": [
    "def extract_variable_df(actual_name, in_dataframe):\n",
    "    out_dataframe = pd.DataFrame()\n",
    "    for i in range(24):\n",
    "        if i == 0:\n",
    "            out_dataframe['{}_t{}'.format(actual_name, i)] = in_dataframe['{}(t)'.format(actual_name)]\n",
    "        else:\n",
    "            out_dataframe['{}_t{}'.format(actual_name, i)] = in_dataframe['{}(t+{})'.format(actual_name, i)]\n",
    "    return out_dataframe"
   ]
  },
  {
   "cell_type": "code",
   "execution_count": 16,
   "metadata": {},
   "outputs": [],
   "source": [
    "pred_electricity = extract_variable_df('electricity', predicted)\n",
    "actual_electricity = extract_variable_df('electricity', actual)"
   ]
  },
  {
   "cell_type": "code",
   "execution_count": 22,
   "metadata": {},
   "outputs": [
    {
     "data": {
      "application/vnd.plotly.v1+json": {
       "config": {
        "plotlyServerURL": "https://plot.ly"
       },
       "data": [
        {
         "line": {
          "color": "royalblue"
         },
         "name": "Forecasted Value",
         "opacity": 1,
         "type": "scatter",
         "x": [
          0,
          1,
          2,
          3,
          4,
          5,
          6,
          7,
          8,
          9,
          10,
          11,
          12,
          13,
          14,
          15,
          16,
          17,
          18,
          19,
          20,
          21,
          22,
          23
         ],
         "y": [
          40.866031646728516,
          45.4255485534668,
          47.96785354614258,
          49.41611099243164,
          53.64067840576172,
          56.282535552978516,
          55.94477462768555,
          56.56605529785156,
          59.58523178100586,
          65.51275634765625,
          71.5472183227539,
          72.4991226196289,
          71.11707305908203,
          68.88024139404297,
          66.64083862304688,
          63.47941207885742,
          58.473628997802734,
          53.121524810791016,
          48.422218322753906,
          44.47333908081055,
          39.930564880371094,
          38.58962631225586,
          38.84914779663086,
          42.404457092285156
         ],
         "yaxis": "y"
        },
        {
         "line": {
          "color": "lightblue"
         },
         "name": "Actual Value",
         "opacity": 0.7,
         "type": "scatter",
         "x": [
          0,
          1,
          2,
          3,
          4,
          5,
          6,
          7,
          8,
          9,
          10,
          11,
          12,
          13,
          14,
          15,
          16,
          17,
          18,
          19,
          20,
          21,
          22,
          23
         ],
         "y": [
          44.29999923706055,
          47.70000076293945,
          56.099998474121094,
          62.20000457763672,
          59.79999923706055,
          58.5,
          60.70000076293945,
          60.70000076293945,
          56.400001525878906,
          55.5,
          56.5,
          59.20000076293945,
          62.29999923706055,
          59.400001525878906,
          54.900001525878906,
          56.79999923706055,
          55.59999465942383,
          48.099998474121094,
          47.400001525878906,
          51,
          49.40000534057617,
          47.79999923706055,
          48.29999923706055,
          48.29999923706055
         ],
         "yaxis": "y"
        }
       ],
       "layout": {
        "template": {
         "data": {
          "bar": [
           {
            "error_x": {
             "color": "#2a3f5f"
            },
            "error_y": {
             "color": "#2a3f5f"
            },
            "marker": {
             "line": {
              "color": "#E5ECF6",
              "width": 0.5
             }
            },
            "type": "bar"
           }
          ],
          "barpolar": [
           {
            "marker": {
             "line": {
              "color": "#E5ECF6",
              "width": 0.5
             }
            },
            "type": "barpolar"
           }
          ],
          "carpet": [
           {
            "aaxis": {
             "endlinecolor": "#2a3f5f",
             "gridcolor": "white",
             "linecolor": "white",
             "minorgridcolor": "white",
             "startlinecolor": "#2a3f5f"
            },
            "baxis": {
             "endlinecolor": "#2a3f5f",
             "gridcolor": "white",
             "linecolor": "white",
             "minorgridcolor": "white",
             "startlinecolor": "#2a3f5f"
            },
            "type": "carpet"
           }
          ],
          "choropleth": [
           {
            "colorbar": {
             "outlinewidth": 0,
             "ticks": ""
            },
            "type": "choropleth"
           }
          ],
          "contour": [
           {
            "colorbar": {
             "outlinewidth": 0,
             "ticks": ""
            },
            "colorscale": [
             [
              0,
              "#0d0887"
             ],
             [
              0.1111111111111111,
              "#46039f"
             ],
             [
              0.2222222222222222,
              "#7201a8"
             ],
             [
              0.3333333333333333,
              "#9c179e"
             ],
             [
              0.4444444444444444,
              "#bd3786"
             ],
             [
              0.5555555555555556,
              "#d8576b"
             ],
             [
              0.6666666666666666,
              "#ed7953"
             ],
             [
              0.7777777777777778,
              "#fb9f3a"
             ],
             [
              0.8888888888888888,
              "#fdca26"
             ],
             [
              1,
              "#f0f921"
             ]
            ],
            "type": "contour"
           }
          ],
          "contourcarpet": [
           {
            "colorbar": {
             "outlinewidth": 0,
             "ticks": ""
            },
            "type": "contourcarpet"
           }
          ],
          "heatmap": [
           {
            "colorbar": {
             "outlinewidth": 0,
             "ticks": ""
            },
            "colorscale": [
             [
              0,
              "#0d0887"
             ],
             [
              0.1111111111111111,
              "#46039f"
             ],
             [
              0.2222222222222222,
              "#7201a8"
             ],
             [
              0.3333333333333333,
              "#9c179e"
             ],
             [
              0.4444444444444444,
              "#bd3786"
             ],
             [
              0.5555555555555556,
              "#d8576b"
             ],
             [
              0.6666666666666666,
              "#ed7953"
             ],
             [
              0.7777777777777778,
              "#fb9f3a"
             ],
             [
              0.8888888888888888,
              "#fdca26"
             ],
             [
              1,
              "#f0f921"
             ]
            ],
            "type": "heatmap"
           }
          ],
          "heatmapgl": [
           {
            "colorbar": {
             "outlinewidth": 0,
             "ticks": ""
            },
            "colorscale": [
             [
              0,
              "#0d0887"
             ],
             [
              0.1111111111111111,
              "#46039f"
             ],
             [
              0.2222222222222222,
              "#7201a8"
             ],
             [
              0.3333333333333333,
              "#9c179e"
             ],
             [
              0.4444444444444444,
              "#bd3786"
             ],
             [
              0.5555555555555556,
              "#d8576b"
             ],
             [
              0.6666666666666666,
              "#ed7953"
             ],
             [
              0.7777777777777778,
              "#fb9f3a"
             ],
             [
              0.8888888888888888,
              "#fdca26"
             ],
             [
              1,
              "#f0f921"
             ]
            ],
            "type": "heatmapgl"
           }
          ],
          "histogram": [
           {
            "marker": {
             "colorbar": {
              "outlinewidth": 0,
              "ticks": ""
             }
            },
            "type": "histogram"
           }
          ],
          "histogram2d": [
           {
            "colorbar": {
             "outlinewidth": 0,
             "ticks": ""
            },
            "colorscale": [
             [
              0,
              "#0d0887"
             ],
             [
              0.1111111111111111,
              "#46039f"
             ],
             [
              0.2222222222222222,
              "#7201a8"
             ],
             [
              0.3333333333333333,
              "#9c179e"
             ],
             [
              0.4444444444444444,
              "#bd3786"
             ],
             [
              0.5555555555555556,
              "#d8576b"
             ],
             [
              0.6666666666666666,
              "#ed7953"
             ],
             [
              0.7777777777777778,
              "#fb9f3a"
             ],
             [
              0.8888888888888888,
              "#fdca26"
             ],
             [
              1,
              "#f0f921"
             ]
            ],
            "type": "histogram2d"
           }
          ],
          "histogram2dcontour": [
           {
            "colorbar": {
             "outlinewidth": 0,
             "ticks": ""
            },
            "colorscale": [
             [
              0,
              "#0d0887"
             ],
             [
              0.1111111111111111,
              "#46039f"
             ],
             [
              0.2222222222222222,
              "#7201a8"
             ],
             [
              0.3333333333333333,
              "#9c179e"
             ],
             [
              0.4444444444444444,
              "#bd3786"
             ],
             [
              0.5555555555555556,
              "#d8576b"
             ],
             [
              0.6666666666666666,
              "#ed7953"
             ],
             [
              0.7777777777777778,
              "#fb9f3a"
             ],
             [
              0.8888888888888888,
              "#fdca26"
             ],
             [
              1,
              "#f0f921"
             ]
            ],
            "type": "histogram2dcontour"
           }
          ],
          "mesh3d": [
           {
            "colorbar": {
             "outlinewidth": 0,
             "ticks": ""
            },
            "type": "mesh3d"
           }
          ],
          "parcoords": [
           {
            "line": {
             "colorbar": {
              "outlinewidth": 0,
              "ticks": ""
             }
            },
            "type": "parcoords"
           }
          ],
          "pie": [
           {
            "automargin": true,
            "type": "pie"
           }
          ],
          "scatter": [
           {
            "marker": {
             "colorbar": {
              "outlinewidth": 0,
              "ticks": ""
             }
            },
            "type": "scatter"
           }
          ],
          "scatter3d": [
           {
            "line": {
             "colorbar": {
              "outlinewidth": 0,
              "ticks": ""
             }
            },
            "marker": {
             "colorbar": {
              "outlinewidth": 0,
              "ticks": ""
             }
            },
            "type": "scatter3d"
           }
          ],
          "scattercarpet": [
           {
            "marker": {
             "colorbar": {
              "outlinewidth": 0,
              "ticks": ""
             }
            },
            "type": "scattercarpet"
           }
          ],
          "scattergeo": [
           {
            "marker": {
             "colorbar": {
              "outlinewidth": 0,
              "ticks": ""
             }
            },
            "type": "scattergeo"
           }
          ],
          "scattergl": [
           {
            "marker": {
             "colorbar": {
              "outlinewidth": 0,
              "ticks": ""
             }
            },
            "type": "scattergl"
           }
          ],
          "scattermapbox": [
           {
            "marker": {
             "colorbar": {
              "outlinewidth": 0,
              "ticks": ""
             }
            },
            "type": "scattermapbox"
           }
          ],
          "scatterpolar": [
           {
            "marker": {
             "colorbar": {
              "outlinewidth": 0,
              "ticks": ""
             }
            },
            "type": "scatterpolar"
           }
          ],
          "scatterpolargl": [
           {
            "marker": {
             "colorbar": {
              "outlinewidth": 0,
              "ticks": ""
             }
            },
            "type": "scatterpolargl"
           }
          ],
          "scatterternary": [
           {
            "marker": {
             "colorbar": {
              "outlinewidth": 0,
              "ticks": ""
             }
            },
            "type": "scatterternary"
           }
          ],
          "surface": [
           {
            "colorbar": {
             "outlinewidth": 0,
             "ticks": ""
            },
            "colorscale": [
             [
              0,
              "#0d0887"
             ],
             [
              0.1111111111111111,
              "#46039f"
             ],
             [
              0.2222222222222222,
              "#7201a8"
             ],
             [
              0.3333333333333333,
              "#9c179e"
             ],
             [
              0.4444444444444444,
              "#bd3786"
             ],
             [
              0.5555555555555556,
              "#d8576b"
             ],
             [
              0.6666666666666666,
              "#ed7953"
             ],
             [
              0.7777777777777778,
              "#fb9f3a"
             ],
             [
              0.8888888888888888,
              "#fdca26"
             ],
             [
              1,
              "#f0f921"
             ]
            ],
            "type": "surface"
           }
          ],
          "table": [
           {
            "cells": {
             "fill": {
              "color": "#EBF0F8"
             },
             "line": {
              "color": "white"
             }
            },
            "header": {
             "fill": {
              "color": "#C8D4E3"
             },
             "line": {
              "color": "white"
             }
            },
            "type": "table"
           }
          ]
         },
         "layout": {
          "annotationdefaults": {
           "arrowcolor": "#2a3f5f",
           "arrowhead": 0,
           "arrowwidth": 1
          },
          "autotypenumbers": "strict",
          "coloraxis": {
           "colorbar": {
            "outlinewidth": 0,
            "ticks": ""
           }
          },
          "colorscale": {
           "diverging": [
            [
             0,
             "#8e0152"
            ],
            [
             0.1,
             "#c51b7d"
            ],
            [
             0.2,
             "#de77ae"
            ],
            [
             0.3,
             "#f1b6da"
            ],
            [
             0.4,
             "#fde0ef"
            ],
            [
             0.5,
             "#f7f7f7"
            ],
            [
             0.6,
             "#e6f5d0"
            ],
            [
             0.7,
             "#b8e186"
            ],
            [
             0.8,
             "#7fbc41"
            ],
            [
             0.9,
             "#4d9221"
            ],
            [
             1,
             "#276419"
            ]
           ],
           "sequential": [
            [
             0,
             "#0d0887"
            ],
            [
             0.1111111111111111,
             "#46039f"
            ],
            [
             0.2222222222222222,
             "#7201a8"
            ],
            [
             0.3333333333333333,
             "#9c179e"
            ],
            [
             0.4444444444444444,
             "#bd3786"
            ],
            [
             0.5555555555555556,
             "#d8576b"
            ],
            [
             0.6666666666666666,
             "#ed7953"
            ],
            [
             0.7777777777777778,
             "#fb9f3a"
            ],
            [
             0.8888888888888888,
             "#fdca26"
            ],
            [
             1,
             "#f0f921"
            ]
           ],
           "sequentialminus": [
            [
             0,
             "#0d0887"
            ],
            [
             0.1111111111111111,
             "#46039f"
            ],
            [
             0.2222222222222222,
             "#7201a8"
            ],
            [
             0.3333333333333333,
             "#9c179e"
            ],
            [
             0.4444444444444444,
             "#bd3786"
            ],
            [
             0.5555555555555556,
             "#d8576b"
            ],
            [
             0.6666666666666666,
             "#ed7953"
            ],
            [
             0.7777777777777778,
             "#fb9f3a"
            ],
            [
             0.8888888888888888,
             "#fdca26"
            ],
            [
             1,
             "#f0f921"
            ]
           ]
          },
          "colorway": [
           "#636efa",
           "#EF553B",
           "#00cc96",
           "#ab63fa",
           "#FFA15A",
           "#19d3f3",
           "#FF6692",
           "#B6E880",
           "#FF97FF",
           "#FECB52"
          ],
          "font": {
           "color": "#2a3f5f"
          },
          "geo": {
           "bgcolor": "white",
           "lakecolor": "white",
           "landcolor": "#E5ECF6",
           "showlakes": true,
           "showland": true,
           "subunitcolor": "white"
          },
          "hoverlabel": {
           "align": "left"
          },
          "hovermode": "closest",
          "mapbox": {
           "style": "light"
          },
          "paper_bgcolor": "white",
          "plot_bgcolor": "#E5ECF6",
          "polar": {
           "angularaxis": {
            "gridcolor": "white",
            "linecolor": "white",
            "ticks": ""
           },
           "bgcolor": "#E5ECF6",
           "radialaxis": {
            "gridcolor": "white",
            "linecolor": "white",
            "ticks": ""
           }
          },
          "scene": {
           "xaxis": {
            "backgroundcolor": "#E5ECF6",
            "gridcolor": "white",
            "gridwidth": 2,
            "linecolor": "white",
            "showbackground": true,
            "ticks": "",
            "zerolinecolor": "white"
           },
           "yaxis": {
            "backgroundcolor": "#E5ECF6",
            "gridcolor": "white",
            "gridwidth": 2,
            "linecolor": "white",
            "showbackground": true,
            "ticks": "",
            "zerolinecolor": "white"
           },
           "zaxis": {
            "backgroundcolor": "#E5ECF6",
            "gridcolor": "white",
            "gridwidth": 2,
            "linecolor": "white",
            "showbackground": true,
            "ticks": "",
            "zerolinecolor": "white"
           }
          },
          "shapedefaults": {
           "line": {
            "color": "#2a3f5f"
           }
          },
          "ternary": {
           "aaxis": {
            "gridcolor": "white",
            "linecolor": "white",
            "ticks": ""
           },
           "baxis": {
            "gridcolor": "white",
            "linecolor": "white",
            "ticks": ""
           },
           "bgcolor": "#E5ECF6",
           "caxis": {
            "gridcolor": "white",
            "linecolor": "white",
            "ticks": ""
           }
          },
          "title": {
           "x": 0.05
          },
          "xaxis": {
           "automargin": true,
           "gridcolor": "white",
           "linecolor": "white",
           "ticks": "",
           "title": {
            "standoff": 15
           },
           "zerolinecolor": "white",
           "zerolinewidth": 2
          },
          "yaxis": {
           "automargin": true,
           "gridcolor": "white",
           "linecolor": "white",
           "ticks": "",
           "title": {
            "standoff": 15
           },
           "zerolinecolor": "white",
           "zerolinewidth": 2
          }
         }
        },
        "title": {
         "text": "Electricity Forecasting"
        },
        "xaxis": {
         "title": {
          "text": "Hour"
         }
        },
        "yaxis": {
         "overlaying": "y",
         "title": {
          "text": "kBTU"
         }
        },
        "yaxis2": {
         "side": "right",
         "title": {
          "text": "kBTU"
         }
        }
       }
      },
      "text/html": [
       "<div>                            <div id=\"dd80b6e2-e87e-48ab-ae8f-4c0ea9c9edc2\" class=\"plotly-graph-div\" style=\"height:525px; width:100%;\"></div>            <script type=\"text/javascript\">                require([\"plotly\"], function(Plotly) {                    window.PLOTLYENV=window.PLOTLYENV || {};                                    if (document.getElementById(\"dd80b6e2-e87e-48ab-ae8f-4c0ea9c9edc2\")) {                    Plotly.newPlot(                        \"dd80b6e2-e87e-48ab-ae8f-4c0ea9c9edc2\",                        [{\"line\": {\"color\": \"royalblue\"}, \"name\": \"Forecasted Value\", \"opacity\": 1, \"type\": \"scatter\", \"x\": [0, 1, 2, 3, 4, 5, 6, 7, 8, 9, 10, 11, 12, 13, 14, 15, 16, 17, 18, 19, 20, 21, 22, 23], \"y\": [40.866031646728516, 45.4255485534668, 47.96785354614258, 49.41611099243164, 53.64067840576172, 56.282535552978516, 55.94477462768555, 56.56605529785156, 59.58523178100586, 65.51275634765625, 71.5472183227539, 72.4991226196289, 71.11707305908203, 68.88024139404297, 66.64083862304688, 63.47941207885742, 58.473628997802734, 53.121524810791016, 48.422218322753906, 44.47333908081055, 39.930564880371094, 38.58962631225586, 38.84914779663086, 42.404457092285156], \"yaxis\": \"y\"}, {\"line\": {\"color\": \"lightblue\"}, \"name\": \"Actual Value\", \"opacity\": 0.7, \"type\": \"scatter\", \"x\": [0, 1, 2, 3, 4, 5, 6, 7, 8, 9, 10, 11, 12, 13, 14, 15, 16, 17, 18, 19, 20, 21, 22, 23], \"y\": [44.29999923706055, 47.70000076293945, 56.099998474121094, 62.20000457763672, 59.79999923706055, 58.5, 60.70000076293945, 60.70000076293945, 56.400001525878906, 55.5, 56.5, 59.20000076293945, 62.29999923706055, 59.400001525878906, 54.900001525878906, 56.79999923706055, 55.59999465942383, 48.099998474121094, 47.400001525878906, 51.0, 49.40000534057617, 47.79999923706055, 48.29999923706055, 48.29999923706055], \"yaxis\": \"y\"}],                        {\"template\": {\"data\": {\"bar\": [{\"error_x\": {\"color\": \"#2a3f5f\"}, \"error_y\": {\"color\": \"#2a3f5f\"}, \"marker\": {\"line\": {\"color\": \"#E5ECF6\", \"width\": 0.5}}, \"type\": \"bar\"}], \"barpolar\": [{\"marker\": {\"line\": {\"color\": \"#E5ECF6\", \"width\": 0.5}}, \"type\": \"barpolar\"}], \"carpet\": [{\"aaxis\": {\"endlinecolor\": \"#2a3f5f\", \"gridcolor\": \"white\", \"linecolor\": \"white\", \"minorgridcolor\": \"white\", \"startlinecolor\": \"#2a3f5f\"}, \"baxis\": {\"endlinecolor\": \"#2a3f5f\", \"gridcolor\": \"white\", \"linecolor\": \"white\", \"minorgridcolor\": \"white\", \"startlinecolor\": \"#2a3f5f\"}, \"type\": \"carpet\"}], \"choropleth\": [{\"colorbar\": {\"outlinewidth\": 0, \"ticks\": \"\"}, \"type\": \"choropleth\"}], \"contour\": [{\"colorbar\": {\"outlinewidth\": 0, \"ticks\": \"\"}, \"colorscale\": [[0.0, \"#0d0887\"], [0.1111111111111111, \"#46039f\"], [0.2222222222222222, \"#7201a8\"], [0.3333333333333333, \"#9c179e\"], [0.4444444444444444, \"#bd3786\"], [0.5555555555555556, \"#d8576b\"], [0.6666666666666666, \"#ed7953\"], [0.7777777777777778, \"#fb9f3a\"], [0.8888888888888888, \"#fdca26\"], [1.0, \"#f0f921\"]], \"type\": \"contour\"}], \"contourcarpet\": [{\"colorbar\": {\"outlinewidth\": 0, \"ticks\": \"\"}, \"type\": \"contourcarpet\"}], \"heatmap\": [{\"colorbar\": {\"outlinewidth\": 0, \"ticks\": \"\"}, \"colorscale\": [[0.0, \"#0d0887\"], [0.1111111111111111, \"#46039f\"], [0.2222222222222222, \"#7201a8\"], [0.3333333333333333, \"#9c179e\"], [0.4444444444444444, \"#bd3786\"], [0.5555555555555556, \"#d8576b\"], [0.6666666666666666, \"#ed7953\"], [0.7777777777777778, \"#fb9f3a\"], [0.8888888888888888, \"#fdca26\"], [1.0, \"#f0f921\"]], \"type\": \"heatmap\"}], \"heatmapgl\": [{\"colorbar\": {\"outlinewidth\": 0, \"ticks\": \"\"}, \"colorscale\": [[0.0, \"#0d0887\"], [0.1111111111111111, \"#46039f\"], [0.2222222222222222, \"#7201a8\"], [0.3333333333333333, \"#9c179e\"], [0.4444444444444444, \"#bd3786\"], [0.5555555555555556, \"#d8576b\"], [0.6666666666666666, \"#ed7953\"], [0.7777777777777778, \"#fb9f3a\"], [0.8888888888888888, \"#fdca26\"], [1.0, \"#f0f921\"]], \"type\": \"heatmapgl\"}], \"histogram\": [{\"marker\": {\"colorbar\": {\"outlinewidth\": 0, \"ticks\": \"\"}}, \"type\": \"histogram\"}], \"histogram2d\": [{\"colorbar\": {\"outlinewidth\": 0, \"ticks\": \"\"}, \"colorscale\": [[0.0, \"#0d0887\"], [0.1111111111111111, \"#46039f\"], [0.2222222222222222, \"#7201a8\"], [0.3333333333333333, \"#9c179e\"], [0.4444444444444444, \"#bd3786\"], [0.5555555555555556, \"#d8576b\"], [0.6666666666666666, \"#ed7953\"], [0.7777777777777778, \"#fb9f3a\"], [0.8888888888888888, \"#fdca26\"], [1.0, \"#f0f921\"]], \"type\": \"histogram2d\"}], \"histogram2dcontour\": [{\"colorbar\": {\"outlinewidth\": 0, \"ticks\": \"\"}, \"colorscale\": [[0.0, \"#0d0887\"], [0.1111111111111111, \"#46039f\"], [0.2222222222222222, \"#7201a8\"], [0.3333333333333333, \"#9c179e\"], [0.4444444444444444, \"#bd3786\"], [0.5555555555555556, \"#d8576b\"], [0.6666666666666666, \"#ed7953\"], [0.7777777777777778, \"#fb9f3a\"], [0.8888888888888888, \"#fdca26\"], [1.0, \"#f0f921\"]], \"type\": \"histogram2dcontour\"}], \"mesh3d\": [{\"colorbar\": {\"outlinewidth\": 0, \"ticks\": \"\"}, \"type\": \"mesh3d\"}], \"parcoords\": [{\"line\": {\"colorbar\": {\"outlinewidth\": 0, \"ticks\": \"\"}}, \"type\": \"parcoords\"}], \"pie\": [{\"automargin\": true, \"type\": \"pie\"}], \"scatter\": [{\"marker\": {\"colorbar\": {\"outlinewidth\": 0, \"ticks\": \"\"}}, \"type\": \"scatter\"}], \"scatter3d\": [{\"line\": {\"colorbar\": {\"outlinewidth\": 0, \"ticks\": \"\"}}, \"marker\": {\"colorbar\": {\"outlinewidth\": 0, \"ticks\": \"\"}}, \"type\": \"scatter3d\"}], \"scattercarpet\": [{\"marker\": {\"colorbar\": {\"outlinewidth\": 0, \"ticks\": \"\"}}, \"type\": \"scattercarpet\"}], \"scattergeo\": [{\"marker\": {\"colorbar\": {\"outlinewidth\": 0, \"ticks\": \"\"}}, \"type\": \"scattergeo\"}], \"scattergl\": [{\"marker\": {\"colorbar\": {\"outlinewidth\": 0, \"ticks\": \"\"}}, \"type\": \"scattergl\"}], \"scattermapbox\": [{\"marker\": {\"colorbar\": {\"outlinewidth\": 0, \"ticks\": \"\"}}, \"type\": \"scattermapbox\"}], \"scatterpolar\": [{\"marker\": {\"colorbar\": {\"outlinewidth\": 0, \"ticks\": \"\"}}, \"type\": \"scatterpolar\"}], \"scatterpolargl\": [{\"marker\": {\"colorbar\": {\"outlinewidth\": 0, \"ticks\": \"\"}}, \"type\": \"scatterpolargl\"}], \"scatterternary\": [{\"marker\": {\"colorbar\": {\"outlinewidth\": 0, \"ticks\": \"\"}}, \"type\": \"scatterternary\"}], \"surface\": [{\"colorbar\": {\"outlinewidth\": 0, \"ticks\": \"\"}, \"colorscale\": [[0.0, \"#0d0887\"], [0.1111111111111111, \"#46039f\"], [0.2222222222222222, \"#7201a8\"], [0.3333333333333333, \"#9c179e\"], [0.4444444444444444, \"#bd3786\"], [0.5555555555555556, \"#d8576b\"], [0.6666666666666666, \"#ed7953\"], [0.7777777777777778, \"#fb9f3a\"], [0.8888888888888888, \"#fdca26\"], [1.0, \"#f0f921\"]], \"type\": \"surface\"}], \"table\": [{\"cells\": {\"fill\": {\"color\": \"#EBF0F8\"}, \"line\": {\"color\": \"white\"}}, \"header\": {\"fill\": {\"color\": \"#C8D4E3\"}, \"line\": {\"color\": \"white\"}}, \"type\": \"table\"}]}, \"layout\": {\"annotationdefaults\": {\"arrowcolor\": \"#2a3f5f\", \"arrowhead\": 0, \"arrowwidth\": 1}, \"autotypenumbers\": \"strict\", \"coloraxis\": {\"colorbar\": {\"outlinewidth\": 0, \"ticks\": \"\"}}, \"colorscale\": {\"diverging\": [[0, \"#8e0152\"], [0.1, \"#c51b7d\"], [0.2, \"#de77ae\"], [0.3, \"#f1b6da\"], [0.4, \"#fde0ef\"], [0.5, \"#f7f7f7\"], [0.6, \"#e6f5d0\"], [0.7, \"#b8e186\"], [0.8, \"#7fbc41\"], [0.9, \"#4d9221\"], [1, \"#276419\"]], \"sequential\": [[0.0, \"#0d0887\"], [0.1111111111111111, \"#46039f\"], [0.2222222222222222, \"#7201a8\"], [0.3333333333333333, \"#9c179e\"], [0.4444444444444444, \"#bd3786\"], [0.5555555555555556, \"#d8576b\"], [0.6666666666666666, \"#ed7953\"], [0.7777777777777778, \"#fb9f3a\"], [0.8888888888888888, \"#fdca26\"], [1.0, \"#f0f921\"]], \"sequentialminus\": [[0.0, \"#0d0887\"], [0.1111111111111111, \"#46039f\"], [0.2222222222222222, \"#7201a8\"], [0.3333333333333333, \"#9c179e\"], [0.4444444444444444, \"#bd3786\"], [0.5555555555555556, \"#d8576b\"], [0.6666666666666666, \"#ed7953\"], [0.7777777777777778, \"#fb9f3a\"], [0.8888888888888888, \"#fdca26\"], [1.0, \"#f0f921\"]]}, \"colorway\": [\"#636efa\", \"#EF553B\", \"#00cc96\", \"#ab63fa\", \"#FFA15A\", \"#19d3f3\", \"#FF6692\", \"#B6E880\", \"#FF97FF\", \"#FECB52\"], \"font\": {\"color\": \"#2a3f5f\"}, \"geo\": {\"bgcolor\": \"white\", \"lakecolor\": \"white\", \"landcolor\": \"#E5ECF6\", \"showlakes\": true, \"showland\": true, \"subunitcolor\": \"white\"}, \"hoverlabel\": {\"align\": \"left\"}, \"hovermode\": \"closest\", \"mapbox\": {\"style\": \"light\"}, \"paper_bgcolor\": \"white\", \"plot_bgcolor\": \"#E5ECF6\", \"polar\": {\"angularaxis\": {\"gridcolor\": \"white\", \"linecolor\": \"white\", \"ticks\": \"\"}, \"bgcolor\": \"#E5ECF6\", \"radialaxis\": {\"gridcolor\": \"white\", \"linecolor\": \"white\", \"ticks\": \"\"}}, \"scene\": {\"xaxis\": {\"backgroundcolor\": \"#E5ECF6\", \"gridcolor\": \"white\", \"gridwidth\": 2, \"linecolor\": \"white\", \"showbackground\": true, \"ticks\": \"\", \"zerolinecolor\": \"white\"}, \"yaxis\": {\"backgroundcolor\": \"#E5ECF6\", \"gridcolor\": \"white\", \"gridwidth\": 2, \"linecolor\": \"white\", \"showbackground\": true, \"ticks\": \"\", \"zerolinecolor\": \"white\"}, \"zaxis\": {\"backgroundcolor\": \"#E5ECF6\", \"gridcolor\": \"white\", \"gridwidth\": 2, \"linecolor\": \"white\", \"showbackground\": true, \"ticks\": \"\", \"zerolinecolor\": \"white\"}}, \"shapedefaults\": {\"line\": {\"color\": \"#2a3f5f\"}}, \"ternary\": {\"aaxis\": {\"gridcolor\": \"white\", \"linecolor\": \"white\", \"ticks\": \"\"}, \"baxis\": {\"gridcolor\": \"white\", \"linecolor\": \"white\", \"ticks\": \"\"}, \"bgcolor\": \"#E5ECF6\", \"caxis\": {\"gridcolor\": \"white\", \"linecolor\": \"white\", \"ticks\": \"\"}}, \"title\": {\"x\": 0.05}, \"xaxis\": {\"automargin\": true, \"gridcolor\": \"white\", \"linecolor\": \"white\", \"ticks\": \"\", \"title\": {\"standoff\": 15}, \"zerolinecolor\": \"white\", \"zerolinewidth\": 2}, \"yaxis\": {\"automargin\": true, \"gridcolor\": \"white\", \"linecolor\": \"white\", \"ticks\": \"\", \"title\": {\"standoff\": 15}, \"zerolinecolor\": \"white\", \"zerolinewidth\": 2}}}, \"title\": {\"text\": \"Electricity Forecasting\"}, \"xaxis\": {\"title\": {\"text\": \"Hour\"}}, \"yaxis\": {\"overlaying\": \"y\", \"title\": {\"text\": \"kBTU\"}}, \"yaxis2\": {\"side\": \"right\", \"title\": {\"text\": \"kBTU\"}}},                        {\"responsive\": true}                    ).then(function(){\n",
       "                            \n",
       "var gd = document.getElementById('dd80b6e2-e87e-48ab-ae8f-4c0ea9c9edc2');\n",
       "var x = new MutationObserver(function (mutations, observer) {{\n",
       "        var display = window.getComputedStyle(gd).display;\n",
       "        if (!display || display === 'none') {{\n",
       "            console.log([gd, 'removed!']);\n",
       "            Plotly.purge(gd);\n",
       "            observer.disconnect();\n",
       "        }}\n",
       "}});\n",
       "\n",
       "// Listen for the removal of the full notebook cells\n",
       "var notebookContainer = gd.closest('#notebook-container');\n",
       "if (notebookContainer) {{\n",
       "    x.observe(notebookContainer, {childList: true});\n",
       "}}\n",
       "\n",
       "// Listen for the clearing of the current output cell\n",
       "var outputEl = gd.closest('.output');\n",
       "if (outputEl) {{\n",
       "    x.observe(outputEl, {childList: true});\n",
       "}}\n",
       "\n",
       "                        })                };                });            </script>        </div>"
      ]
     },
     "metadata": {},
     "output_type": "display_data"
    }
   ],
   "source": [
    "Predicted = go.Scatter(x=np.arange(pred_electricity.shape[1]), y=pred_electricity.values[48], opacity = 1, name = 'Forecasted Value', line=dict(color='royalblue'), yaxis='y')\n",
    "Actual = go.Scatter(x=np.arange(actual_electricity.shape[1]), y=actual_electricity.values[48], opacity = 0.7, name = 'Actual Value', line=dict(color='lightblue'), yaxis='y')\n",
    "\n",
    "layout = go.Layout(title='Electricity Forecasting', xaxis=dict(title='Hour'),\n",
    "                   yaxis=dict(title='kBTU', overlaying='y'),\n",
    "                  yaxis2=dict(title='kBTU', side='right'))\n",
    "fig = go.Figure(data=[Predicted, Actual], layout=layout)\n",
    "fig.show()"
   ]
  },
  {
   "cell_type": "code",
   "execution_count": null,
   "metadata": {},
   "outputs": [],
   "source": []
  }
 ],
 "metadata": {
  "kernelspec": {
   "display_name": "Python 3",
   "language": "python",
   "name": "python3"
  },
  "language_info": {
   "codemirror_mode": {
    "name": "ipython",
    "version": 3
   },
   "file_extension": ".py",
   "mimetype": "text/x-python",
   "name": "python",
   "nbconvert_exporter": "python",
   "pygments_lexer": "ipython3",
   "version": "3.8.5"
  }
 },
 "nbformat": 4,
 "nbformat_minor": 4
}
