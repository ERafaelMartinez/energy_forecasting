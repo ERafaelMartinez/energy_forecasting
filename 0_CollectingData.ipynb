{
 "cells": [
  {
   "cell_type": "markdown",
   "metadata": {},
   "source": [
    "# 0. Data Collection Details And Requirements"
   ]
  },
  {
   "cell_type": "markdown",
   "metadata": {},
   "source": [
    "In order to run ALL the following notebooks on a local computer you will need to download the database held in the [Kaggle Competition Web Page](https://www.kaggle.com/c/ashrae-energy-prediction/overview), as well as [this](https://www.kaggle.com/vladimirsydor/leakaggregator) other post also in Kaggle which helds some additional data to increase the yearly data. This is only needed if you want to run the data preparation process in notebook number 1. If you only want to work with the already cleaned data, just make sure de document `full_data.csv` is contained in `./data/clean/`. After that you can extract the zipfile using the following function or as you find most convenient."
   ]
  },
  {
   "cell_type": "code",
   "execution_count": null,
   "metadata": {},
   "outputs": [],
   "source": [
    "import zipfile\n",
    "with zipfile.ZipFile('./ashrae-energy-prediction.zip', 'r') as zip_ref:\n",
    "    zip_ref.extractall('./data')"
   ]
  },
  {
   "cell_type": "markdown",
   "metadata": {},
   "source": [
    "In order to construct the datas as in notebook 1 you'll need to have installed `pandasql`. In order to display correctly the interactive plots, you'll have to installed (if not previously done) `plotly` via `pip install` or conda. You also need `scikitlearn`; `matplotlib`, `os`, `pandas`and `numpy` are also used."
   ]
  },
  {
   "cell_type": "code",
   "execution_count": null,
   "metadata": {},
   "outputs": [],
   "source": []
  }
 ],
 "metadata": {
  "kernelspec": {
   "display_name": "Python 3",
   "language": "python",
   "name": "python3"
  },
  "language_info": {
   "codemirror_mode": {
    "name": "ipython",
    "version": 3
   },
   "file_extension": ".py",
   "mimetype": "text/x-python",
   "name": "python",
   "nbconvert_exporter": "python",
   "pygments_lexer": "ipython3",
   "version": "3.8.5"
  }
 },
 "nbformat": 4,
 "nbformat_minor": 4
}
